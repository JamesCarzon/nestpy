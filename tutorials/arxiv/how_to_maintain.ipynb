{
 "cells": [
  {
   "cell_type": "markdown",
   "metadata": {},
   "source": [
    "How to Maintain nestpy\n",
    "--------------------------\n",
    "Sophia Andaloro \n",
    "<br>\n",
    "Born: July 6, 2020\n",
    "<br>\n",
    "Last edit: November 11, 2020"
   ]
  },
  {
   "cell_type": "markdown",
   "metadata": {},
   "source": [
    "## 1. Versioning and updating with NEST"
   ]
  },
  {
   "cell_type": "markdown",
   "metadata": {},
   "source": [
    "Run:\n",
    "```\n",
    "git clone git@github.com:NESTCollaboration/nestpy.git\n",
    "```\n",
    "Then go to website:\n",
    "https://github.com/NESTCollaboration/nest/tags\n",
    "To see which tag you want to bind to. In this case 'v2.1.2', so then you go to\n",
    "`src/nestpy/__init__.py`\n",
    "<br>\n",
    "Then change the version:\n",
    "<br>\n",
    "`__nest_version__ = '2.1.2'`"
   ]
  },
  {
   "cell_type": "markdown",
   "metadata": {},
   "source": [
    "Then you have to install nestpy into some environment: <br>\n",
    "`pip freeze | grep nest # no nestpy exists ` <br>\n",
    "`python setup.py install`\n",
    "<br>\n",
    "such that:\n",
    "```\n",
    "python -c \"import nestpy;print(nestpy.__nest_version__)\"\n",
    "```\n",
    "Returns the version you want. Now run `sync.sh` (can run one at a time)"
   ]
  },
  {
   "cell_type": "markdown",
   "metadata": {},
   "source": [
    "## sync.sh File:"
   ]
  },
  {
   "cell_type": "markdown",
   "metadata": {},
   "source": [
    "```\n",
    "# This script is used for syncing to the NEST main repository\n",
    "# to ensure that the bindings bind to the same version of NEST\n",
    "export VERSION=`python -c \"import nestpy;print(nestpy.__nest_version__)\"`\n",
    "echo $VERSION \n",
    "git clone https://github.com/NESTCollaboration/nest.git nest_source\n",
    "cd nest_source\n",
    "git fetch --all --tags --prune\n",
    "git checkout tags/v${VERSION} -b test\n",
    "cd ..\n",
    "cd src/nestpy\n",
    "for filename in *.{cpp,hh}; do\n",
    "  export REPO_FILE=`find ../../nest_source/ -name ${filename}`\n",
    "  if [ ! -z \"$REPO_FILE\" -a \"$REPO_FILE\" != \" \" ]; then\n",
    "    cp $REPO_FILE $filename\n",
    "  fi\n",
    "done\n",
    "cd ../..\n",
    "#rm -Rf nest_source\n",
    "#git commit -m \"Sync with $VERSION\" -a\n",
    "```"
   ]
  },
  {
   "cell_type": "markdown",
   "metadata": {},
   "source": [
    "**For now, we have to go to execNEST function and put in the nuisparam and free params**:\n",
    "```\n",
    "NRYieldsParam = {11., 1.1, 0.0480, -0.0533, 12.6, 0.3, 2., 0.3, 2., 0.5, 1., 1.};\n",
    "NRERWidthsParam = {1.,1.,0.1,0.5,0.19,2.25, 0.0015, 0.0553, 0.205, 0.45, -0.2};\n",
    "ERWeightParam = {0.23, 0.77, 2.95, -1.44, 1.0, 1.0, 0., 0.};\n",
    "  ```"
   ]
  },
  {
   "cell_type": "markdown",
   "metadata": {},
   "source": [
    "**Additionally, nestpy requires a different minimum cmake version than the C++ version, so we need to remove the use of gcem in nestpy**:\n",
    "    \n",
    "In NEST.hh, comment out `#include \"gcem.hpp\" `\n",
    "And change the lines:\n",
    "```\n",
    "         static constexpr double two_PI = 2. * M_PI;\n",
    "         static constexpr double sqrt2 = gcem::sqrt(2.);\n",
    "         static constexpr double sqrt2_PI = gcem::sqrt( 2. * M_PI );\n",
    "         static constexpr double inv_sqrt2_PI = 1./gcem::sqrt( 2. * M_PI );\n",
    "```\n",
    "To\n",
    "```\n",
    "         double two_PI = 2. * M_PI;\n",
    "         double sqrt2 = sqrt(2.);\n",
    "         double sqrt2_PI = sqrt( 2. * M_PI );\n",
    "         double inv_sqrt2_PI = 1./sqrt( 2. * M_PI );\n",
    "```\n",
    "\n",
    "\n",
    "Additionally, do a similar thing to RandomGen.hh:\n",
    "Comment out `#include \"gcem.hpp\"`\n",
    "and Change the lines:\n",
    "```\n",
    "   static constexpr double   xoroshiro128plus64_min = static_cast<double>(xoroshiro128plus64::min());\n",
    "   static constexpr double   xoroshiro128plus64_minmax = static_cast<double>(xoroshiro128plus64::max() -xoroshiro128plus64::min());\n",
    "\n",
    "   static constexpr double two_PI = 2. * M_PI;\n",
    "   static constexpr double four_minus_PI_div_2 = 0.5*(4. - M_PI);\n",
    "   static constexpr double sqrt2 = gcem::sqrt(2.);\n",
    "   static constexpr double sqrt2_PI = gcem::sqrt( 2. * M_PI );\n",
    "   static constexpr double sqrt2_div_PI =  gcem::sqrt(2./M_PI);\n",
    "   static constexpr double log2 = gcem::log(2.);\n",
    "```\n",
    "to \n",
    "```\n",
    "   double   xoroshiro128plus64_min = static_cast<double>(xoroshiro128plus64::min());\n",
    "   double   xoroshiro128plus64_minmax = static_cast<double>(xoroshiro128plus64::max() - xoroshiro128plus64::min());\n",
    "\n",
    "   double two_PI = 2. * M_PI;\n",
    "   double four_minus_PI_div_2 = 0.5*(4. - M_PI);\n",
    "   double sqrt2 = sqrt(2.);\n",
    "   double sqrt2_PI = sqrt( 2. * M_PI );\n",
    "   double sqrt2_div_PI =  sqrt(2./M_PI);\n",
    "   double log2 = log(2.);\n",
    "```\n",
    "\n",
    "So in both files, we've removed any use of gcem for handling constant expressions. "
   ]
  },
  {
   "cell_type": "markdown",
   "metadata": {},
   "source": [
    "## Edit the histories "
   ]
  },
  {
   "cell_type": "markdown",
   "metadata": {},
   "source": [
    "- Edit HISTORY with new versions\n",
    "```\n",
    "cd nestpy\n",
    "nano HISTORY.md \n",
    "git commit -m \"Edit HISTORY.md for v<version>\" HISTORY.md\n",
    "nano src/nestpy/__init__.py\n",
    "# Change the version of nestpy here \n",
    "```\n",
    "- Push changes\n",
    "```\n",
    "git push\n",
    "bumpversion minor # or patch, or major, depending on versioning changes\n",
    "git push --tags\n",
    "```"
   ]
  },
  {
   "cell_type": "markdown",
   "metadata": {},
   "source": [
    "Then you'll want to go into travisCI and see if all checks complete on the commit "
   ]
  },
  {
   "cell_type": "markdown",
   "metadata": {},
   "source": [
    "# Download custom nestpy"
   ]
  },
  {
   "cell_type": "markdown",
   "metadata": {},
   "source": [
    "`pip install --user -U git+https://github.com/NESTCollaboration/nestpy.git` "
   ]
  },
  {
   "cell_type": "code",
   "execution_count": null,
   "metadata": {},
   "outputs": [],
   "source": []
  }
 ],
 "metadata": {
  "kernelspec": {
   "display_name": "Python 3",
   "language": "python",
   "name": "python3"
  },
  "language_info": {
   "codemirror_mode": {
    "name": "ipython",
    "version": 3
   },
   "file_extension": ".py",
   "mimetype": "text/x-python",
   "name": "python",
   "nbconvert_exporter": "python",
   "pygments_lexer": "ipython3",
   "version": "3.8.5"
  }
 },
 "nbformat": 4,
 "nbformat_minor": 4
}
